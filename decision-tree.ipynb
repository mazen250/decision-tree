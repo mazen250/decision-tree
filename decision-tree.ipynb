{
 "cells": [
  {
   "cell_type": "code",
   "execution_count": 122,
   "id": "8782dc0c",
   "metadata": {
    "scrolled": false
   },
   "outputs": [
    {
     "data": {
      "text/plain": [
       "0.9514066496163683"
      ]
     },
     "execution_count": 122,
     "metadata": {},
     "output_type": "execute_result"
    }
   ],
   "source": [
    "import pandas as pd\n",
    "from math import nan\n",
    "from sklearn.tree import DecisionTreeClassifier\n",
    "from sklearn.model_selection import train_test_split\n",
    "from sklearn.metrics import accuracy_score\n",
    "data=pd.read_csv('house-votes-84.csv')\n",
    "# data.shape\n",
    "data.columns =['Name', 'handicapped-infants', 'water-project-cost-sharing', 'adoption-of-the-budget-resolution','physician-fee-freeze', 'el-salvador-aid', 'religious-groups-in-schools', 'anti-satellite-test-ban','aid-to-nicaraguan-contras', 'mx-missile', 'immigration', 'synfuels-corporation-cutback','education-spending', 'superfund-right-to-sue', 'crime', 'duty-free-exports','export-administration-act-south-africa']\n",
    "datanew = data.replace(['y', 'n'], [1, 0])\n",
    "dataz = datanew.replace(['?'], [nan])\n",
    "result = dataz.fillna(dataz.mode().iloc[0])\n",
    "# result.head()\n",
    "\n",
    "X = result.drop(['Name'],axis=1)\n",
    "y = result['Name']\n",
    "# X_train, X_test, y_train, y_test = train_test_split(\n",
    "#     X, y, test_size=0.2, random_state=1)\n",
    "# X_train,X_test,y_train,y_test=train_test_split(X,y,test_size=0.2)\n",
    "model = DecisionTreeClassifier()\n",
    "X_train,X_test,y_train,y_test=train_test_split(X,y,test_size=0.9,)\n",
    "model.fit(X_train, y_train)\n",
    "predictions = model.predict(X_test)\n",
    "\n",
    "\n",
    "# X= music_data.drop(columns=['genre'])\n",
    "# y=music_data['genre']\n",
    "\n",
    "\n",
    "\n",
    "\n",
    "# model = DecisionTreeClassifier()\n",
    "\n",
    "# model.fit(X_train,y_train)\n",
    "# prediction = model.predict(X_test)\n",
    "score = accuracy_score(y_test,predictions)\n",
    "\n",
    "score"
   ]
  },
  {
   "cell_type": "code",
   "execution_count": 131,
   "id": "eb96fcc9",
   "metadata": {},
   "outputs": [
    {
     "name": "stdout",
     "output_type": "stream",
     "text": [
      "accuracy of the model is =  0.9447852760736196\n"
     ]
    }
   ],
   "source": [
    "\n",
    "from math import nan\n",
    "import pandas as pd\n",
    "from sklearn.tree import DecisionTreeClassifier\n",
    "from sklearn.model_selection import train_test_split\n",
    "from sklearn.metrics import accuracy_score\n",
    "from sklearn import tree\n",
    "\n",
    "data = pd.read_csv('house-votes-84.csv')\n",
    "data.columns = ['Name', 'handicapped-infants', 'water-project-cost-sharing', 'adoption-of-the-budget-resolution', 'physician-fee-freeze', 'el-salvador-aid', 'religious-groups-in-schools', 'anti-satellite-test-ban',\n",
    "                'aid-to-nicaraguan-contras', 'mx-missile', 'immigration', 'synfuels-corporation-cutback', 'education-spending', 'superfund-right-to-sue', 'crime', 'duty-free-exports', 'export-administration-act-south-africa']\n",
    "\n",
    "\n",
    "# replace y with 1 and n with 0\n",
    "\n",
    "datanew = data.replace(['y', 'n'], [1, 0])\n",
    "dataz = datanew.replace(['?'], [nan])\n",
    "\n",
    "# replace all the missing values with majority value\n",
    "# print(dataz.mode().iloc[0])\n",
    "\n",
    "\n",
    "result = dataz.fillna(dataz.mode().iloc[0])\n",
    "\n",
    "\n",
    "# split the data into training and testing data\n",
    "X = result.drop(['Name'], axis=1)  # features\n",
    "y = result['Name']  # target\n",
    "X_train, X_test, y_train, y_test = train_test_split(\n",
    "    X, y, test_size=0.75)  # split the data into training and testing data\n",
    "\n",
    "model = DecisionTreeClassifier()  # create a model\n",
    "model.fit(X_train, y_train)  # train the model\n",
    "\n",
    "tree.export_graphviz(model, out_file='tree.dot', feature_names=['handicapped-infants', 'water-project-cost-sharing', 'adoption-of-the-budget-resolution', 'physician-fee-freeze', 'el-salvador-aid', 'religious-groups-in-schools', 'anti-satellite-test-ban',\n",
    "                                                               'aid-to-nicaraguan-contras', 'mx-missile', 'immigration', 'synfuels-corporation-cutback', 'education-spending', 'superfund-right-to-sue', 'crime', 'duty-free-exports', 'export-administration-act-south-africa'],\n",
    "                     class_names=result['Name'],\n",
    "                     label='all', rounded=True, filled=True)  # export the model\n",
    "predictions = model.predict(X_test)  # predict the test data\n",
    "# print the accuracy by comparing the test data and predictions\n",
    "accuracy = accuracy_score(y_test, predictions)\n",
    "print(\"accuracy of the model is = \", accuracy)\n"
   ]
  },
  {
   "cell_type": "code",
   "execution_count": null,
   "id": "3ade45e0",
   "metadata": {},
   "outputs": [],
   "source": []
  }
 ],
 "metadata": {
  "kernelspec": {
   "display_name": "Python 3 (ipykernel)",
   "language": "python",
   "name": "python3"
  },
  "language_info": {
   "codemirror_mode": {
    "name": "ipython",
    "version": 3
   },
   "file_extension": ".py",
   "mimetype": "text/x-python",
   "name": "python",
   "nbconvert_exporter": "python",
   "pygments_lexer": "ipython3",
   "version": "3.9.7"
  }
 },
 "nbformat": 4,
 "nbformat_minor": 5
}
